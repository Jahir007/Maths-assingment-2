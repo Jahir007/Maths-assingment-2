{
 "cells": [
  {
   "cell_type": "code",
   "execution_count": 1,
   "metadata": {},
   "outputs": [
    {
     "name": "stdout",
     "output_type": "stream",
     "text": [
      "P(A|D) = 0.3226\n",
      "P(B|D) = 0.3871\n",
      "P(C|D) = 0.2903\n"
     ]
    }
   ],
   "source": [
    "prior = {'A': 2/5, 'B': 2/5, 'C': 1/5}\n",
    "likelihood = {'A': 0.5, 'B': 0.6, 'C': 0.9}\n",
    "\n",
    "# Compute the marginal probability of the data (getting heads)\n",
    "marginal = sum(prior[hypo] * likelihood[hypo] for hypo in prior)\n",
    "\n",
    "# Compute the posterior probabilities of each hypothesis given the data\n",
    "posterior = {hypo: (prior[hypo] * likelihood[hypo]) / marginal for hypo in prior}\n",
    "\n",
    "# Print the results\n",
    "for hypo in prior:\n",
    "    print(f'P({hypo}|D) = {posterior[hypo]:.4f}')\n"
   ]
  },
  {
   "cell_type": "code",
   "execution_count": 2,
   "metadata": {},
   "outputs": [
    {
     "name": "stdout",
     "output_type": "stream",
     "text": [
      "P(spam|M5) = 1.0000\n",
      "P(ham|M5) = 0.0000\n"
     ]
    }
   ],
   "source": [
    "import pandas as pd\n",
    "\n",
    "# Define the dataset\n",
    "data = {\n",
    "    'Malicious': ['yes', 'no', 'yes', 'no'],\n",
    "    'Viagara': ['yes', 'no', 'no', 'yes'],\n",
    "    'Meet': ['yes', 'yes', 'yes', 'no'],\n",
    "    'class': ['spam', 'ham', 'spam', 'ham']\n",
    "}\n",
    "df = pd.DataFrame(data)\n",
    "\n",
    "# Compute the class prior probabilities\n",
    "class_priors = df['class'].value_counts(normalize=True)\n",
    "\n",
    "# Compute the likelihood probabilities for each feature and class\n",
    "likelihoods = {}\n",
    "for feature in ['Malicious', 'Viagara', 'Meet']:\n",
    "    for value in ['yes', 'no']:\n",
    "        for cls in ['spam', 'ham']:\n",
    "            count = len(df[(df[feature] == value) & (df['class'] == cls)])\n",
    "            likelihoods[(feature, value, cls)] = count / len(df[df['class'] == cls])\n",
    "\n",
    "# Compute the posterior probabilities for each class given the new message\n",
    "new_message = {'Malicious': 'yes', 'Viagara': 'no', 'Meet': 'yes'}\n",
    "posteriors = {}\n",
    "for cls in ['spam', 'ham']:\n",
    "    posterior = class_priors[cls]\n",
    "    for feature, value in new_message.items():\n",
    "        posterior *= likelihoods[(feature, value, cls)]\n",
    "    posteriors[cls] = posterior\n",
    "\n",
    "# Print the results\n",
    "print(f\"P(spam|M5) = {posteriors['spam'] / sum(posteriors.values()):.4f}\")\n",
    "print(f\"P(ham|M5) = {posteriors['ham'] / sum(posteriors.values()):.4f}\")\n"
   ]
  },
  {
   "cell_type": "code",
   "execution_count": 4,
   "metadata": {},
   "outputs": [
    {
     "name": "stdout",
     "output_type": "stream",
     "text": [
      "Eigenvalues:\n",
      "[2.+2.23606798j 2.-2.23606798j]\n",
      "\n",
      "Eigenvectors:\n",
      "[[0.91287093+0.j         0.91287093-0.j        ]\n",
      " [0.        +0.40824829j 0.        -0.40824829j]]\n"
     ]
    }
   ],
   "source": [
    "import numpy as np\n",
    "\n",
    "# Define the matrix\n",
    "A = np.array([[2, 5], [-1, 2]])\n",
    "\n",
    "# Find the eigenvalues and eigenvectors\n",
    "eigenvalues, eigenvectors = np.linalg.eig(A)\n",
    "\n",
    "# Print the results\n",
    "print(\"Eigenvalues:\")\n",
    "print(eigenvalues)\n",
    "print(\"\\nEigenvectors:\")\n",
    "print(eigenvectors)\n"
   ]
  }
 ],
 "metadata": {
  "kernelspec": {
   "display_name": "Python 3",
   "language": "python",
   "name": "python3"
  },
  "language_info": {
   "codemirror_mode": {
    "name": "ipython",
    "version": 3
   },
   "file_extension": ".py",
   "mimetype": "text/x-python",
   "name": "python",
   "nbconvert_exporter": "python",
   "pygments_lexer": "ipython3",
   "version": "3.11.1"
  },
  "orig_nbformat": 4,
  "vscode": {
   "interpreter": {
    "hash": "422d61f8e6dc0133f4bffb300e97a7efb63e444828845b4b27b2c7e9a91f028a"
   }
  }
 },
 "nbformat": 4,
 "nbformat_minor": 2
}
